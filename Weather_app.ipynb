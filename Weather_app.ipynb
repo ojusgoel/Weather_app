{
  "nbformat": 4,
  "nbformat_minor": 0,
  "metadata": {
    "colab": {
      "provenance": []
    },
    "kernelspec": {
      "name": "python3",
      "display_name": "Python 3"
    },
    "language_info": {
      "name": "python"
    }
  },
  "cells": [
    {
      "cell_type": "markdown",
      "source": [
        "# Weather App"
      ],
      "metadata": {
        "id": "uO4Th0S6Ualb"
      }
    },
    {
      "cell_type": "code",
      "execution_count": 1,
      "metadata": {
        "colab": {
          "base_uri": "https://localhost:8080/"
        },
        "id": "d6_NodJTUUJ-",
        "outputId": "e5cc7acb-8dc6-45f3-b7aa-f551e29afcb7"
      },
      "outputs": [
        {
          "output_type": "stream",
          "name": "stdout",
          "text": [
            "Enter location (City, ZIP Code, or Landmark): 491001\n",
            "Location: Durg\n",
            "Temperature: 34.84°C\n",
            "Humidity: 18%\n",
            "Wind Speed: 2.65 m/s\n",
            "Weather Condition: Broken Clouds\n"
          ]
        }
      ],
      "source": [
        "import requests\n",
        "\n",
        "def get_weather(api_key, location):\n",
        "    base_url = \"https://api.openweathermap.org/data/2.5/weather\"\n",
        "    params = {\"q\": location, \"appid\": api_key, \"units\": \"metric\"}\n",
        "\n",
        "    response = requests.get(base_url, params=params)\n",
        "\n",
        "    if response.status_code == 200:\n",
        "        data = response.json()\n",
        "        weather_info = {\n",
        "            \"Location\": data[\"name\"],\n",
        "            \"Temperature\": f\"{data['main']['temp']}°C\",\n",
        "            \"Humidity\": f\"{data['main']['humidity']}%\",\n",
        "            \"Wind Speed\": f\"{data['wind']['speed']} m/s\",\n",
        "            \"Weather Condition\": data[\"weather\"][0][\"description\"].title()\n",
        "        }\n",
        "        return weather_info\n",
        "    else:\n",
        "        return {\"Error\": \"Invalid location or API issue. Please try again.\"}\n",
        "\n",
        "def main():\n",
        "    api_key = \"0800600bfb2d25983e92b8bf7226e91e\"\n",
        "    location = input(\"Enter location (City, ZIP Code, or Landmark): \")\n",
        "\n",
        "    weather = get_weather(api_key, location)\n",
        "\n",
        "    for key, value in weather.items():\n",
        "        print(f\"{key}: {value}\")\n",
        "\n",
        "if __name__ == \"__main__\":\n",
        "    main()"
      ]
    },
    {
      "cell_type": "markdown",
      "source": [
        "# 5 day weather forecast"
      ],
      "metadata": {
        "id": "tqxA_IzBU51q"
      }
    },
    {
      "cell_type": "code",
      "source": [
        "import requests\n",
        "\n",
        "def get_weather(api_key, location):\n",
        "    base_url = \"https://api.openweathermap.org/data/2.5/weather\"\n",
        "    params = {\"q\": location, \"appid\": api_key, \"units\": \"metric\"}\n",
        "\n",
        "    response = requests.get(base_url, params=params)\n",
        "\n",
        "    if response.status_code == 200:\n",
        "        data = response.json()\n",
        "        weather_info = {\n",
        "            \"Location\": data[\"name\"],\n",
        "            \"Temperature\": f\"{data['main']['temp']}°C\",\n",
        "            \"Humidity\": f\"{data['main']['humidity']}%\",\n",
        "            \"Wind Speed\": f\"{data['wind']['speed']} m/s\",\n",
        "            \"Weather Condition\": data[\"weather\"][0][\"description\"].title()\n",
        "        }\n",
        "        return weather_info\n",
        "    else:\n",
        "        return {\"Error\": \"Invalid location or API issue. Please try again.\"}\n",
        "\n",
        "def get_forecast(api_key, location):\n",
        "    base_url = \"https://api.openweathermap.org/data/2.5/forecast\"\n",
        "    params = {\"q\": location, \"appid\": api_key, \"units\": \"metric\"}\n",
        "\n",
        "    response = requests.get(base_url, params=params)\n",
        "\n",
        "    if response.status_code == 200:\n",
        "        data = response.json()\n",
        "        forecast_data = {}\n",
        "\n",
        "        for item in data[\"list\"]:\n",
        "            date = item[\"dt_txt\"].split(\" \")[0]\n",
        "            temp = item[\"main\"][\"temp\"]\n",
        "            condition = item[\"weather\"][0][\"description\"].title()\n",
        "\n",
        "            if date not in forecast_data:\n",
        "                forecast_data[date] = {\"Temperature\": [], \"Conditions\": set()}\n",
        "\n",
        "            forecast_data[date][\"Temperature\"].append(temp)\n",
        "            forecast_data[date][\"Conditions\"].add(condition)\n",
        "\n",
        "        forecast_summary = {}\n",
        "        for date, values in forecast_data.items():\n",
        "            avg_temp = sum(values[\"Temperature\"]) / len(values[\"Temperature\"])\n",
        "            conditions = \", \".join(values[\"Conditions\"])\n",
        "            forecast_summary[date] = {\"Avg Temperature\": f\"{avg_temp:.1f}°C\", \"Conditions\": conditions}\n",
        "\n",
        "        return forecast_summary\n",
        "    else:\n",
        "        return {\"Error\": \"Invalid location or API issue. Please try again.\"}\n",
        "\n",
        "def main():\n",
        "    api_key = \"0800600bfb2d25983e92b8bf7226e91e\"\n",
        "    location = input(\"Enter location (City, ZIP Code, or Landmark): \")\n",
        "\n",
        "    weather = get_weather(api_key, location)\n",
        "    print(\"\\nCurrent Weather:\")\n",
        "    for key, value in weather.items():\n",
        "        print(f\"{key}: {value}\")\n",
        "\n",
        "    forecast = get_forecast(api_key, location)\n",
        "    print(\"\\n5-Day Forecast:\")\n",
        "    for date, details in forecast.items():\n",
        "        print(f\"{date}: {details['Avg Temperature']} | {details['Conditions']}\")\n",
        "\n",
        "if __name__ == \"__main__\":\n",
        "    main()"
      ],
      "metadata": {
        "id": "Q4fgHr_OUcov"
      },
      "execution_count": null,
      "outputs": []
    }
  ]
}